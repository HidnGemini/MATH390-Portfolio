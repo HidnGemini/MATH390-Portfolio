{
  "nbformat": 4,
  "nbformat_minor": 0,
  "metadata": {
    "colab": {
      "provenance": []
    },
    "kernelspec": {
      "name": "python3",
      "display_name": "Python 3"
    },
    "language_info": {
      "name": "python"
    }
  },
  "cells": [
    {
      "cell_type": "code",
      "execution_count": null,
      "metadata": {
        "id": "_R2yXbiTX-pS"
      },
      "outputs": [],
      "source": [
        "import sympy as sp"
      ]
    },
    {
      "cell_type": "code",
      "source": [
        "# part a\n",
        "\n",
        "matrix = sp.Matrix(\n",
        "    [[1, -3, 9, -27, -13],\n",
        "     [1, -1, 1, -1, 2],\n",
        "     [1, 1, 1, 1, -3],\n",
        "     [1, 3, 9, 27, -4]\n",
        "     ])\n",
        "\n",
        "print(matrix.rref())"
      ],
      "metadata": {
        "colab": {
          "base_uri": "https://localhost:8080/"
        },
        "id": "6mKAo1oVYF0G",
        "outputId": "cde0c353-a8a7-442b-faff-d9651da046b1"
      },
      "execution_count": null,
      "outputs": [
        {
          "output_type": "stream",
          "name": "stdout",
          "text": [
            "(Matrix([\n",
            "[1, 0, 0, 0, 1/2],\n",
            "[0, 1, 0, 0,  -3],\n",
            "[0, 0, 1, 0,  -1],\n",
            "[0, 0, 0, 1, 1/2]]), (0, 1, 2, 3))\n"
          ]
        }
      ]
    },
    {
      "cell_type": "code",
      "source": [
        "# part b\n",
        "\n",
        "matrix2 = sp.Matrix(\n",
        "    [[1, -3, 9, -27, 81, -13],\n",
        "     [1, -1, 1, -1, 1, 2],\n",
        "     [1, 1, 1, 1, 1, -3],\n",
        "     [1, 3, 9, 27, 81, -4]\n",
        "     ])\n",
        "\n",
        "print(matrix2.rref())"
      ],
      "metadata": {
        "colab": {
          "base_uri": "https://localhost:8080/"
        },
        "id": "GfBB8KTTYKhp",
        "outputId": "096f3891-bfea-4da4-88da-5dda001c093e"
      },
      "execution_count": null,
      "outputs": [
        {
          "output_type": "stream",
          "name": "stdout",
          "text": [
            "(Matrix([\n",
            "[1, 0, 0, 0, -9, 1/2],\n",
            "[0, 1, 0, 0,  0,  -3],\n",
            "[0, 0, 1, 0, 10,  -1],\n",
            "[0, 0, 0, 1,  0, 1/2]]), (0, 1, 2, 3))\n"
          ]
        }
      ]
    },
    {
      "cell_type": "code",
      "source": [
        "# part c\n",
        "\n",
        "def findPolynomial(xs, ys):\n",
        "    # check precondition\n",
        "    if len(xs) != len(ys):\n",
        "        raise Exception(\"Your xs and ys are not the same length!\")\n",
        "\n",
        "    # create rows of matrices\n",
        "    degree = len(xs)\n",
        "    matrixList = []\n",
        "    ys.reverse() # allows popping off a y for every x iteration\n",
        "    for x in xs:\n",
        "        row = [x**i for i in range(degree)] # powers of x_m\n",
        "        matrixList.append(row)\n",
        "        row.append(ys.pop())\n",
        "\n",
        "    # create sympy Matrix object and reduce\n",
        "    echelonMatrix = sp.Matrix(matrixList).rref()\n",
        "\n",
        "    # get coefficients from reduced matrix\n",
        "    coefficients = []\n",
        "    for i in range(degree):\n",
        "        coefficients.append(echelonMatrix[0].row(i)[-1])\n",
        "\n",
        "    # create String representation of the polynomial\n",
        "    stringRep = \"\"\n",
        "    exp = degree-1\n",
        "    while len(coefficients) > 0:\n",
        "        stringRep += str(coefficients.pop()) + \"x^\" + str(exp)\n",
        "        exp -= 1\n",
        "        if len(coefficients) > 0: # add plus if this isn't the last elt\n",
        "            stringRep += \" + \"\n",
        "\n",
        "    return stringRep"
      ],
      "metadata": {
        "id": "r2R8nUULYLrs"
      },
      "execution_count": null,
      "outputs": []
    }
  ]
}