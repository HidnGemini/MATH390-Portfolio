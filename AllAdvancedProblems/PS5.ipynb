{
  "nbformat": 4,
  "nbformat_minor": 0,
  "metadata": {
    "colab": {
      "provenance": []
    },
    "kernelspec": {
      "name": "python3",
      "display_name": "Python 3"
    },
    "language_info": {
      "name": "python"
    }
  },
  "cells": [
    {
      "cell_type": "code",
      "source": [
        "import numpy as np\n",
        "import matplotlib.pyplot as plt\n",
        "import math"
      ],
      "metadata": {
        "id": "6wce2CvIFIrQ"
      },
      "execution_count": null,
      "outputs": []
    },
    {
      "cell_type": "code",
      "execution_count": null,
      "metadata": {
        "id": "jtPocn_aE7wE"
      },
      "outputs": [],
      "source": [
        "def findBestFitPoly(degree: int, xs: list, ys: list) -> list:\n",
        "  \"\"\"\n",
        "    takes a list of x values and corresponding y values and a degree and finds\n",
        "    the best fit polynomial of that degree\n",
        "  \"\"\"\n",
        "  if degree >= len(xs):\n",
        "    print(f\"cannot make a degree {degree} polynomial with only {len(xs)} points\")\n",
        "    return # technically the program would run but force it to not do so\n",
        "\n",
        "  degree = degree+1\n",
        "\n",
        "  matrixA = [[x**i for i in range(degree)] for x in xs] # set up A matrix\n",
        "\n",
        "  matrixQ, matrixR = np.linalg.qr(matrixA) # find QR decomposition\n",
        "\n",
        "  coefficients = (np.linalg.inv(matrixR) @ matrixQ.T) @ ys # (R^-1)(Q^*)y\n",
        "  clampFloats(coefficients) # kill floating point zeroes\n",
        "\n",
        "  return coefficients"
      ]
    },
    {
      "cell_type": "code",
      "source": [
        "def printMat(matrix: list) -> None:\n",
        "  \"\"\"\n",
        "    prints a matrix in a nice way :)\n",
        "  \"\"\"\n",
        "  for row in matrix:\n",
        "    for elt in row:\n",
        "      print(elt, end=\" \")\n",
        "    print(\"\")"
      ],
      "metadata": {
        "id": "OuahgIPwFQWA"
      },
      "execution_count": null,
      "outputs": []
    },
    {
      "cell_type": "code",
      "source": [
        "def printVect(vector: list) -> None:\n",
        "  \"\"\"\n",
        "    prints a vector in a nice way :)\n",
        "  \"\"\"\n",
        "  for elt in vector:\n",
        "    print(elt)"
      ],
      "metadata": {
        "id": "75jxg2BoFRb6"
      },
      "execution_count": null,
      "outputs": []
    },
    {
      "cell_type": "code",
      "source": [
        "def clampFloats(vector: list) -> None:\n",
        "  \"\"\"\n",
        "    clamps floats below 1e-12 to 0\n",
        "  \"\"\"\n",
        "  for i,elt in enumerate(vector):\n",
        "    if abs(elt) < 1e-12:\n",
        "      vector[i] = 0\n"
      ],
      "metadata": {
        "id": "xejGhGevFSUz"
      },
      "execution_count": null,
      "outputs": []
    },
    {
      "cell_type": "code",
      "source": [
        "def __stringRep(coefficients):\n",
        "  \"\"\"\n",
        "    creates a string representation of the polynomial given coefficients\n",
        "  \"\"\"\n",
        "  coefficients = list(coefficients)\n",
        "\n",
        "  degree = len(coefficients)\n",
        "  stringRep = \"\"\n",
        "  exp = degree-1\n",
        "  while len(coefficients) > 0:\n",
        "    stringRep += str(\"(\" + str(coefficients.pop())) + \")x^\" + str(exp)\n",
        "    exp -= 1\n",
        "    if len(coefficients) > 0: # add plus if this isn't the last elt\n",
        "      stringRep += \" + \"\n",
        "  return stringRep"
      ],
      "metadata": {
        "id": "8TG6J2KUFTiC"
      },
      "execution_count": null,
      "outputs": []
    },
    {
      "cell_type": "code",
      "source": [
        "def plot(xs, ys, coefs):\n",
        "  \"\"\"\n",
        "    plots a set of x,y points against a function with given coefficients\n",
        "  \"\"\"\n",
        "  plt.scatter(xs, ys)\n",
        "  outXs, outYs = createFunctionOut(coefs, min(xs)-1, max(xs)+1)\n",
        "  plt.plot(outXs, outYs)\n",
        "  plt.show()"
      ],
      "metadata": {
        "id": "9Nw59MghGkoV"
      },
      "execution_count": null,
      "outputs": []
    },
    {
      "cell_type": "code",
      "source": [
        "def createFunctionOut(coefs, start, end):\n",
        "  \"\"\"\n",
        "    takes coefficients, a start and an end point and generates a list of xs\n",
        "    and ys created by that function.\n",
        "  \"\"\"\n",
        "  xs = []\n",
        "  ys = []\n",
        "  for i in range(math.floor(start)*10, math.ceil(end)*10):\n",
        "    xVal = i/10\n",
        "    xs.append(xVal)\n",
        "    yVal = 0\n",
        "    for j in range(len(coefs)):\n",
        "      yVal += coefs[j]*xVal**j\n",
        "    ys.append(yVal)\n",
        "  return xs, ys"
      ],
      "metadata": {
        "id": "bPtcgPy_JYIN"
      },
      "execution_count": null,
      "outputs": []
    },
    {
      "cell_type": "code",
      "source": [
        "if __name__ == \"__main__\":\n",
        "  print(\"+===========================================+\")\n",
        "  print(\"|               y = x^3 - x^2               |\")\n",
        "  print(\"+===========================================+\")\n",
        "  # y = x^3-x^2\n",
        "  xs = [-5, -4, -3, -2, -1, 0, 1, 2, 3, 4, 5]\n",
        "  ys = [-150, -80, -36, -12, -2, 0, 0, 4, 18, 48, 100]\n",
        "\n",
        "  coefs = findBestFitPoly(4, xs, ys)\n",
        "  print(__stringRep(coefs))\n",
        "\n",
        "  plot(xs, ys, coefs)"
      ],
      "metadata": {
        "colab": {
          "base_uri": "https://localhost:8080/",
          "height": 503
        },
        "id": "nUvi8dvPFTRc",
        "outputId": "454a1597-5ff2-47db-a22b-7099eaef9d43"
      },
      "execution_count": null,
      "outputs": [
        {
          "output_type": "stream",
          "name": "stdout",
          "text": [
            "+===========================================+\n",
            "|               y = x^3 - x^2               |\n",
            "+===========================================+\n",
            "(0.0)x^4 + (1.0)x^3 + (-1.0000000000000007)x^2 + (0.0)x^1 + (0.0)x^0\n"
          ]
        },
        {
          "output_type": "display_data",
          "data": {
            "text/plain": [
              "<Figure size 640x480 with 1 Axes>"
            ],
            "image/png": "[encoded data removed]"
          },
          "metadata": {}
        }
      ]
    },
    {
      "cell_type": "code",
      "source": [
        "if __name__ == \"__main__\":\n",
        "  print(\"+===========================================+\")\n",
        "  print(\"|   y = 0.00001x^4-0.05x^3+0.667x^2-0.25x   |\")\n",
        "  print(\"+===========================================+\")\n",
        "  # 0.00001x^{4}-0.05x^{3}+\\frac{2}{3}x^{2}-\\frac{1}{4}x\n",
        "  xs = [0, 0.38618, 0.19163, 8.71798, -4.6, 12.98189]\n",
        "  ys = [0, 0, -0.02378, 15.41735, 20.12794, 0]\n",
        "\n",
        "  coefs = findBestFitPoly(4, xs, ys)\n",
        "  print(__stringRep(coefs))\n",
        "\n",
        "  plot(xs, ys, coefs)"
      ],
      "metadata": {
        "colab": {
          "base_uri": "https://localhost:8080/",
          "height": 503
        },
        "id": "e6qBaRF4NWhA",
        "outputId": "563aba06-3790-4daa-c215-29500137d1f9"
      },
      "execution_count": null,
      "outputs": [
        {
          "output_type": "stream",
          "name": "stdout",
          "text": [
            "+===========================================+\n",
            "|   y = 0.00001x^4-0.05x^3+0.667x^2-0.25x   |\n",
            "+===========================================+\n",
            "(1.000547449903598e-05)x^4 + (-0.05000007765034563)x^3 + (0.666666669401331)x^2 + (-0.24999710438284872)x^1 + (-8.687495527577582e-07)x^0\n"
          ]
        },
        {
          "output_type": "display_data",
          "data": {
            "text/plain": [
              "<Figure size 640x480 with 1 Axes>"
            ],
            "image/png": "[encoded data removed]"
          },
          "metadata": {}
        }
      ]
    },
    {
      "cell_type": "code",
      "source": [],
      "metadata": {
        "id": "H_a2uqTzRTnZ"
      },
      "execution_count": null,
      "outputs": []
    }
  ]
}